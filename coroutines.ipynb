{
 "cells": [
  {
   "cell_type": "markdown",
   "id": "c63b5b36-1e9d-45ee-9ba2-58897e6d308e",
   "metadata": {},
   "source": [
    "# Generators reminder"
   ]
  },
  {
   "cell_type": "code",
   "execution_count": 1,
   "id": "131665cf-8ed9-44c3-8417-d2520f3289eb",
   "metadata": {},
   "outputs": [],
   "source": [
    "def countdown(n):\n",
    "    while n > 0:\n",
    "        yield n\n",
    "        n -= 1"
   ]
  },
  {
   "cell_type": "code",
   "execution_count": 2,
   "id": "5ecc243e-b54c-4ece-acd1-412868fa43ef",
   "metadata": {},
   "outputs": [],
   "source": [
    "c = countdown(5)"
   ]
  },
  {
   "cell_type": "code",
   "execution_count": 3,
   "id": "d76fe878-fda1-4583-80c8-654355c2ed47",
   "metadata": {},
   "outputs": [
    {
     "data": {
      "text/plain": [
       "<generator object countdown at 0x10506e5f0>"
      ]
     },
     "execution_count": 3,
     "metadata": {},
     "output_type": "execute_result"
    }
   ],
   "source": [
    "c"
   ]
  },
  {
   "cell_type": "code",
   "execution_count": 4,
   "id": "44e1309e-6385-4483-964c-3c89c2668562",
   "metadata": {},
   "outputs": [
    {
     "data": {
      "text/plain": [
       "5"
      ]
     },
     "execution_count": 4,
     "metadata": {},
     "output_type": "execute_result"
    }
   ],
   "source": [
    "c.__next__()"
   ]
  },
  {
   "cell_type": "code",
   "execution_count": 5,
   "id": "1245935e-42db-4391-92fa-5babb98cad58",
   "metadata": {},
   "outputs": [
    {
     "data": {
      "text/plain": [
       "4"
      ]
     },
     "execution_count": 5,
     "metadata": {},
     "output_type": "execute_result"
    }
   ],
   "source": [
    "c.__next__()"
   ]
  },
  {
   "cell_type": "code",
   "execution_count": 6,
   "id": "d65d52e6-5b8f-44dd-ae74-1a1deff3e856",
   "metadata": {},
   "outputs": [
    {
     "data": {
      "text/plain": [
       "3"
      ]
     },
     "execution_count": 6,
     "metadata": {},
     "output_type": "execute_result"
    }
   ],
   "source": [
    "c.__next__()"
   ]
  },
  {
   "cell_type": "code",
   "execution_count": 7,
   "id": "d7ad63d1-6e60-4780-a593-475b0a543708",
   "metadata": {},
   "outputs": [
    {
     "data": {
      "text/plain": [
       "2"
      ]
     },
     "execution_count": 7,
     "metadata": {},
     "output_type": "execute_result"
    }
   ],
   "source": [
    "c.__next__()"
   ]
  },
  {
   "cell_type": "code",
   "execution_count": 8,
   "id": "280dd0d1-ab39-45d1-8b23-cb09d421cd24",
   "metadata": {},
   "outputs": [
    {
     "data": {
      "text/plain": [
       "1"
      ]
     },
     "execution_count": 8,
     "metadata": {},
     "output_type": "execute_result"
    }
   ],
   "source": [
    "c.__next__()"
   ]
  },
  {
   "cell_type": "code",
   "execution_count": 9,
   "id": "bf9a0d53-bc85-462e-b94d-a1e952fb909e",
   "metadata": {},
   "outputs": [
    {
     "ename": "StopIteration",
     "evalue": "",
     "output_type": "error",
     "traceback": [
      "\u001b[0;31m---------------------------------------------------------------------------\u001b[0m",
      "\u001b[0;31mStopIteration\u001b[0m                             Traceback (most recent call last)",
      "Input \u001b[0;32mIn [9]\u001b[0m, in \u001b[0;36m<cell line: 1>\u001b[0;34m()\u001b[0m\n\u001b[0;32m----> 1\u001b[0m \u001b[43mc\u001b[49m\u001b[38;5;241;43m.\u001b[39;49m\u001b[38;5;21;43m__next__\u001b[39;49m\u001b[43m(\u001b[49m\u001b[43m)\u001b[49m\n",
      "\u001b[0;31mStopIteration\u001b[0m: "
     ]
    }
   ],
   "source": [
    "c.__next__()"
   ]
  },
  {
   "cell_type": "markdown",
   "id": "fc1e1526-a8be-4014-9862-7d88802dfbc2",
   "metadata": {},
   "source": [
    "Generator execution is driven by calls to next"
   ]
  },
  {
   "cell_type": "markdown",
   "id": "7ab00211-586e-4d04-b47c-629c8b274136",
   "metadata": {},
   "source": [
    "# Coroutines"
   ]
  },
  {
   "cell_type": "markdown",
   "id": "72465242-5a28-4443-b46f-92754bac4cff",
   "metadata": {},
   "source": [
    "## Yield as an Expression"
   ]
  },
  {
   "cell_type": "markdown",
   "id": "8a7ce71f-e231-40ca-bc85-35a2b7d5cdd1",
   "metadata": {},
   "source": [
    "`yield` is an expression which means that it can we used on the right side of an assignment."
   ]
  },
  {
   "cell_type": "code",
   "execution_count": 10,
   "id": "3f231f1b-f789-4a67-8180-537eac515445",
   "metadata": {},
   "outputs": [],
   "source": [
    "def fizzbuzz():\n",
    "    print('Starting')\n",
    "    while True:\n",
    "        number = (yield)\n",
    "        if number % 15 == 0:\n",
    "            print('FizzBuzz')\n",
    "        elif number % 5 == 0:\n",
    "            print('Buzz')\n",
    "        elif number % 3 == 0:\n",
    "            print('Fizz')\n",
    "        else:\n",
    "            print(number)"
   ]
  },
  {
   "cell_type": "code",
   "execution_count": 11,
   "id": "c9c4a1dd-f19d-4ab3-8697-7c7e26b51e0f",
   "metadata": {},
   "outputs": [],
   "source": [
    "f = fizzbuzz()"
   ]
  },
  {
   "cell_type": "code",
   "execution_count": 12,
   "id": "ab07c48c-8221-4ef7-9e1d-e2979b53562c",
   "metadata": {},
   "outputs": [
    {
     "name": "stdout",
     "output_type": "stream",
     "text": [
      "Starting\n"
     ]
    }
   ],
   "source": [
    "f.__next__()"
   ]
  },
  {
   "cell_type": "code",
   "execution_count": 13,
   "id": "e7a34fc9-6eaa-4939-ac8e-95d5def29500",
   "metadata": {},
   "outputs": [
    {
     "name": "stdout",
     "output_type": "stream",
     "text": [
      "Fizz\n"
     ]
    }
   ],
   "source": [
    "f.send(3)"
   ]
  },
  {
   "cell_type": "code",
   "execution_count": 14,
   "id": "7fc3aa1f-ef1b-4169-85a4-3ceac5c10395",
   "metadata": {},
   "outputs": [
    {
     "name": "stdout",
     "output_type": "stream",
     "text": [
      "7\n"
     ]
    }
   ],
   "source": [
    "f.send(7)"
   ]
  },
  {
   "cell_type": "code",
   "execution_count": 15,
   "id": "12e6fd54-d50c-40db-bc4c-8365c850e78f",
   "metadata": {},
   "outputs": [
    {
     "name": "stdout",
     "output_type": "stream",
     "text": [
      "FizzBuzz\n"
     ]
    }
   ],
   "source": [
    "f.send(15)"
   ]
  },
  {
   "cell_type": "markdown",
   "id": "f9c0083d-f553-44d1-bd1d-5aeda5b42cd8",
   "metadata": {},
   "source": [
    "Here we can do more than simply generate values from a function. Function can consume values sent to it.\n",
    "This is what we call a coroutine."
   ]
  },
  {
   "cell_type": "markdown",
   "id": "0e86ae45-0dc3-4226-a44d-4b1ae9d49f9c",
   "metadata": {},
   "source": [
    "Sent values are returned by (yield)"
   ]
  },
  {
   "cell_type": "markdown",
   "id": "19442145-8731-40b1-aa2a-bf01f53ccadd",
   "metadata": {},
   "source": [
    "Coroutines only run in response to `next()` and `send()` methods"
   ]
  },
  {
   "cell_type": "markdown",
   "id": "46238a04-39e8-4bfb-8f08-969a864206b7",
   "metadata": {},
   "source": [
    "### Coroutine Priming"
   ]
  },
  {
   "cell_type": "markdown",
   "id": "0c9ad321-707a-4e76-8c3e-c0c7e274620e",
   "metadata": {},
   "source": [
    "All coroutines must be \"primed\" by first calling `.next()` or `send(None)`"
   ]
  },
  {
   "cell_type": "markdown",
   "id": "5a461caa-b0df-4784-8ad8-e948c9236a23",
   "metadata": {},
   "source": [
    "This advances execution to the location of the first yield expression."
   ]
  },
  {
   "cell_type": "markdown",
   "id": "89da87b8-8a81-4cf5-97ad-a326f6de3ee5",
   "metadata": {},
   "source": [
    "Usually this isssue is solved with decorator\n",
    "```python\n",
    "def coroutine(func):\n",
    "    def start(*args, **kwargs):\n",
    "        cr = func(*args, **kwargs)\n",
    "        cr.next()\n",
    "        return cr\n",
    "    return start\n",
    "\n",
    "@coroutine\n",
    "def grep(pattern):\n",
    "    ...\n",
    "```"
   ]
  },
  {
   "cell_type": "markdown",
   "id": "761a5b2e-5b61-48da-9c7f-12c3d5b4edcd",
   "metadata": {},
   "source": [
    "Generators produce values  \n",
    "Coroutines tend to consume values"
   ]
  },
  {
   "cell_type": "markdown",
   "id": "87aafe4b-945f-4a53-b2de-80152aaf52f6",
   "metadata": {},
   "source": [
    "**Key difference**: Generators **pull** data through the pipe with iteration. Coroutines **push** data into the pipeline with `send()`"
   ]
  }
 ],
 "metadata": {
  "kernelspec": {
   "display_name": "Python 3 (ipykernel)",
   "language": "python",
   "name": "python3"
  },
  "language_info": {
   "codemirror_mode": {
    "name": "ipython",
    "version": 3
   },
   "file_extension": ".py",
   "mimetype": "text/x-python",
   "name": "python",
   "nbconvert_exporter": "python",
   "pygments_lexer": "ipython3",
   "version": "3.8.9"
  }
 },
 "nbformat": 4,
 "nbformat_minor": 5
}
