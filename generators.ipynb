{
 "cells": [
  {
   "cell_type": "markdown",
   "id": "653c83d0-84c4-4dd2-9933-ec7ec0e1214f",
   "metadata": {},
   "source": [
    "# Generators"
   ]
  },
  {
   "cell_type": "markdown",
   "id": "b749324d-945b-459c-840e-fff0abba8f7e",
   "metadata": {},
   "source": [
    "A generator is a function that produces a sequence of results instead of a single value, e.g.:\n",
    "\n"
   ]
  },
  {
   "cell_type": "code",
   "execution_count": 1,
   "id": "fd3bbd40-8810-45d3-b9da-816ed6c82307",
   "metadata": {},
   "outputs": [],
   "source": [
    "def countdown(n):\n",
    "    while n > 0:\n",
    "        yield n\n",
    "        n -= 1"
   ]
  },
  {
   "cell_type": "code",
   "execution_count": 2,
   "id": "e5ec4e67-3de7-49e9-8eb2-e8d575615957",
   "metadata": {},
   "outputs": [
    {
     "name": "stdout",
     "output_type": "stream",
     "text": [
      "5 4 3 2 1 "
     ]
    }
   ],
   "source": [
    "for i in countdown(5):\n",
    "    print(i, end= ' ')"
   ]
  },
  {
   "cell_type": "markdown",
   "id": "349b4013-0e27-4b89-a607-c50f7bf73d00",
   "metadata": {},
   "source": [
    "Generators have different behavior than normal function:\n",
    "\n",
    "1. Calling a function returns result\n",
    "2. Calling a generator creates generator object. However, it does not start running the function."
   ]
  },
  {
   "cell_type": "code",
   "execution_count": 3,
   "id": "2018f0d9-28b9-4deb-bcbe-be624ba84943",
   "metadata": {},
   "outputs": [],
   "source": [
    "x = countdown(5)"
   ]
  },
  {
   "cell_type": "code",
   "execution_count": 4,
   "id": "af7d09ee-0b03-4e44-85d7-575b1c2ef14b",
   "metadata": {},
   "outputs": [
    {
     "data": {
      "text/plain": [
       "<generator object countdown at 0x107c58970>"
      ]
     },
     "execution_count": 4,
     "metadata": {},
     "output_type": "execute_result"
    }
   ],
   "source": [
    "x"
   ]
  },
  {
   "cell_type": "markdown",
   "id": "f04c5272-1a98-49d3-97db-064d46783c4f",
   "metadata": {},
   "source": [
    "The function only executes on `__next__()`"
   ]
  },
  {
   "cell_type": "code",
   "execution_count": 5,
   "id": "93c0bcc1-3d27-4299-ae26-9c874015f089",
   "metadata": {},
   "outputs": [
    {
     "data": {
      "text/plain": [
       "5"
      ]
     },
     "execution_count": 5,
     "metadata": {},
     "output_type": "execute_result"
    }
   ],
   "source": [
    "x.__next__()"
   ]
  },
  {
   "cell_type": "markdown",
   "id": "99fde954-9e40-4cea-8418-ab69ad0c1d49",
   "metadata": {},
   "source": [
    "yield produces a value, but suspends the function"
   ]
  },
  {
   "cell_type": "markdown",
   "id": "2c93f431-90bb-4788-85f2-0212036e8de7",
   "metadata": {},
   "source": [
    "Function resumes on next call to __next__()"
   ]
  },
  {
   "cell_type": "code",
   "execution_count": 6,
   "id": "56fbfb84-dfa0-4c55-a519-9c389bc5996c",
   "metadata": {},
   "outputs": [
    {
     "data": {
      "text/plain": [
       "4"
      ]
     },
     "execution_count": 6,
     "metadata": {},
     "output_type": "execute_result"
    }
   ],
   "source": [
    "x.__next__()"
   ]
  },
  {
   "cell_type": "code",
   "execution_count": 7,
   "id": "563ea31f-68a0-431c-b922-c489aec1e6b2",
   "metadata": {},
   "outputs": [
    {
     "data": {
      "text/plain": [
       "3"
      ]
     },
     "execution_count": 7,
     "metadata": {},
     "output_type": "execute_result"
    }
   ],
   "source": [
    "x.__next__()"
   ]
  },
  {
   "cell_type": "code",
   "execution_count": 8,
   "id": "4786da7d-9407-4c0e-b513-d446cd56bef2",
   "metadata": {},
   "outputs": [
    {
     "data": {
      "text/plain": [
       "2"
      ]
     },
     "execution_count": 8,
     "metadata": {},
     "output_type": "execute_result"
    }
   ],
   "source": [
    "x.__next__()"
   ]
  },
  {
   "cell_type": "code",
   "execution_count": 9,
   "id": "3e80efb4-7ff2-4cd6-a88b-593cc1b55238",
   "metadata": {},
   "outputs": [
    {
     "data": {
      "text/plain": [
       "1"
      ]
     },
     "execution_count": 9,
     "metadata": {},
     "output_type": "execute_result"
    }
   ],
   "source": [
    "x.__next__()"
   ]
  },
  {
   "cell_type": "code",
   "execution_count": 10,
   "id": "3652833d-ab94-47ab-af81-858b75f7b531",
   "metadata": {},
   "outputs": [
    {
     "ename": "StopIteration",
     "evalue": "",
     "output_type": "error",
     "traceback": [
      "\u001b[0;31m---------------------------------------------------------------------------\u001b[0m",
      "\u001b[0;31mStopIteration\u001b[0m                             Traceback (most recent call last)",
      "Input \u001b[0;32mIn [10]\u001b[0m, in \u001b[0;36m<cell line: 1>\u001b[0;34m()\u001b[0m\n\u001b[0;32m----> 1\u001b[0m \u001b[43mx\u001b[49m\u001b[38;5;241;43m.\u001b[39;49m\u001b[38;5;21;43m__next__\u001b[39;49m\u001b[43m(\u001b[49m\u001b[43m)\u001b[49m\n",
      "\u001b[0;31mStopIteration\u001b[0m: "
     ]
    }
   ],
   "source": [
    "x.__next__()"
   ]
  },
  {
   "cell_type": "markdown",
   "id": "5255ba06-1d9a-4328-a504-c9be5dae79ee",
   "metadata": {},
   "source": [
    "When the generator returns, iteration stops"
   ]
  },
  {
   "cell_type": "markdown",
   "id": "83fc461b-e8e9-484e-aa88-4f94f3f3a66c",
   "metadata": {},
   "source": [
    "In the end, a generator function is a **much more conveninet** way of writing an iterator"
   ]
  },
  {
   "cell_type": "markdown",
   "id": "0c566d71-4c80-4299-b31b-3a9475160dce",
   "metadata": {},
   "source": [
    "### Generators vs Iterators"
   ]
  },
  {
   "cell_type": "markdown",
   "id": "d9f3ff66-13cc-4ce1-97c7-3518951861b6",
   "metadata": {},
   "source": [
    "1. You can iterate **only once** over the generated data.\n",
    "2. You can iterate as many times as you want over iterators like lists"
   ]
  },
  {
   "cell_type": "markdown",
   "id": "0fe5528c-447f-489a-bded-f8e7deff66a2",
   "metadata": {},
   "source": [
    "## Generator Expressions"
   ]
  },
  {
   "cell_type": "markdown",
   "id": "320928b7-8174-44ed-9ad3-957db00a773d",
   "metadata": {},
   "source": [
    "Generator version of a list comprehension with 3 important differences:  \n",
    " 1. Does not construct a list\n",
    " 2. Only useful for iteration\n",
    " 3. Once consumed, can't be reused"
   ]
  },
  {
   "cell_type": "code",
   "execution_count": 11,
   "id": "97e079e7-83e1-4438-9c31-4d23c86053ea",
   "metadata": {},
   "outputs": [],
   "source": [
    "a = [1,2,3,4]"
   ]
  },
  {
   "cell_type": "code",
   "execution_count": 12,
   "id": "7f49b942-f440-48b2-a4ce-c504743958b0",
   "metadata": {},
   "outputs": [],
   "source": [
    "b = [2*x for x in a]"
   ]
  },
  {
   "cell_type": "code",
   "execution_count": 13,
   "id": "209c7691-f6cf-43a4-971a-046c6dd0873d",
   "metadata": {},
   "outputs": [
    {
     "data": {
      "text/plain": [
       "[2, 4, 6, 8]"
      ]
     },
     "execution_count": 13,
     "metadata": {},
     "output_type": "execute_result"
    }
   ],
   "source": [
    "b"
   ]
  },
  {
   "cell_type": "code",
   "execution_count": 14,
   "id": "4b9684ec-fde9-415f-a97c-923067084bf3",
   "metadata": {},
   "outputs": [],
   "source": [
    "c = (2*x for x in a)"
   ]
  },
  {
   "cell_type": "code",
   "execution_count": 15,
   "id": "0be6fab4-1673-452f-82ea-d318f81cb6c3",
   "metadata": {},
   "outputs": [
    {
     "data": {
      "text/plain": [
       "<generator object <genexpr> at 0x10879da50>"
      ]
     },
     "execution_count": 15,
     "metadata": {},
     "output_type": "execute_result"
    }
   ],
   "source": [
    "c"
   ]
  },
  {
   "cell_type": "markdown",
   "id": "fab243eb-e4c0-42af-a977-48a8bc7a8717",
   "metadata": {},
   "source": [
    "General syntax\n",
    "```python\n",
    "(expression for i in s if condition)\n",
    "```\n",
    "corresponds to\n",
    "```python\n",
    "for i in s:\n",
    "    if condition:\n",
    "        yield expression\n",
    "```"
   ]
  },
  {
   "cell_type": "markdown",
   "id": "0f80b95d-08a7-485a-ba78-d08caca99bca",
   "metadata": {},
   "source": [
    "## Generators as a Pipeline"
   ]
  },
  {
   "cell_type": "markdown",
   "id": "0f7ab7f0-47a8-47f3-9664-09fbee33635a",
   "metadata": {},
   "source": [
    "### Example"
   ]
  },
  {
   "cell_type": "markdown",
   "id": "4da350ae-5afb-4f5f-a0d8-77a2afe0fe5d",
   "metadata": {},
   "source": [
    "for-loop approach\n",
    "```python\n",
    "with open('access-log') as wwwlog:\n",
    "    total = 0\n",
    "    for line in wwwlog:\n",
    "        bytes_sent = line.rsplit(None, 1)[1]\n",
    "        if bytes_sent != '-':\n",
    "            total += int(bytes_sent)\n",
    "    print(\"Total\", total\n",
    "```"
   ]
  },
  {
   "cell_type": "markdown",
   "id": "ba423bb0-cf27-4f72-8ace-4a8ea55b1d96",
   "metadata": {},
   "source": [
    "generator expressions\n",
    "```python\n",
    "with open('access-log') as wwwlog:\n",
    "    bytecolumn = (line.rsplit(None, 1)[1] for line in wwwlog)\n",
    "    bytes_sent = (int(x) for x in bytecolumn if x != '-')\n",
    "    print('Total', sum(bytes_sent))\n",
    "```"
   ]
  },
  {
   "cell_type": "markdown",
   "id": "5c9d9f3b-3515-44f2-9b88-539d5753904c",
   "metadata": {},
   "source": [
    "Think of it as a data processing pipeline. At each step of the pipeline, we declare an operation that will be applied to the entire input stream."
   ]
  },
  {
   "cell_type": "markdown",
   "id": "30764665-198e-435e-86f4-a929512e6c8d",
   "metadata": {},
   "source": [
    "Generators better support **declarative** style"
   ]
  }
 ],
 "metadata": {
  "kernelspec": {
   "display_name": "Python 3 (ipykernel)",
   "language": "python",
   "name": "python3"
  },
  "language_info": {
   "codemirror_mode": {
    "name": "ipython",
    "version": 3
   },
   "file_extension": ".py",
   "mimetype": "text/x-python",
   "name": "python",
   "nbconvert_exporter": "python",
   "pygments_lexer": "ipython3",
   "version": "3.8.9"
  }
 },
 "nbformat": 4,
 "nbformat_minor": 5
}
